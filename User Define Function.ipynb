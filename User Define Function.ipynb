{
 "cells": [
  {
   "cell_type": "markdown",
   "id": "774551d1-b7dc-446c-8711-15312c680f62",
   "metadata": {},
   "source": [
    "****Basic****"
   ]
  },
  {
   "cell_type": "code",
   "execution_count": 1,
   "id": "9e17ad95-6c66-4856-af25-d2a76a31ec76",
   "metadata": {},
   "outputs": [],
   "source": [
    "def printing_variable(a):\n",
    "    print(\"variable a: \", a)"
   ]
  },
  {
   "cell_type": "code",
   "execution_count": 2,
   "id": "01b5e1cc-da9f-43f0-9308-9bb2dfdad10b",
   "metadata": {},
   "outputs": [
    {
     "name": "stdout",
     "output_type": "stream",
     "text": [
      "variable a:  1\n"
     ]
    }
   ],
   "source": [
    "printing_variable(1)"
   ]
  },
  {
   "cell_type": "code",
   "execution_count": 3,
   "id": "509d36d2-021a-44c5-84fa-f9eb906b8230",
   "metadata": {},
   "outputs": [
    {
     "name": "stdout",
     "output_type": "stream",
     "text": [
      "variable a:  5\n"
     ]
    }
   ],
   "source": [
    "printing_variable(5)"
   ]
  },
  {
   "cell_type": "code",
   "execution_count": 4,
   "id": "934e9dbd-03d0-4201-8c2f-a9276c6c2084",
   "metadata": {},
   "outputs": [
    {
     "name": "stdout",
     "output_type": "stream",
     "text": [
      "variable a:  200\n"
     ]
    }
   ],
   "source": [
    "printing_variable(200)"
   ]
  },
  {
   "cell_type": "code",
   "execution_count": 7,
   "id": "b1141ee5-fcc6-49cb-9050-0e0cb90c294b",
   "metadata": {},
   "outputs": [
    {
     "name": "stdout",
     "output_type": "stream",
     "text": [
      "variable a:  Belajar DS\n"
     ]
    }
   ],
   "source": [
    "printing_variable(\"Belajar DS\")"
   ]
  },
  {
   "cell_type": "code",
   "execution_count": 16,
   "id": "7eaf65bd-222a-45cd-9aa3-159d21196a9c",
   "metadata": {},
   "outputs": [],
   "source": [
    "def sum(a,b): #make return\n",
    "    result = a+b\n",
    "    return result"
   ]
  },
  {
   "cell_type": "code",
   "execution_count": 17,
   "id": "c2f87cf2-1ecd-47d9-b62f-5d82a8a6d94d",
   "metadata": {},
   "outputs": [
    {
     "data": {
      "text/plain": [
       "15"
      ]
     },
     "execution_count": 17,
     "metadata": {},
     "output_type": "execute_result"
    }
   ],
   "source": [
    "sum(5,10)"
   ]
  },
  {
   "cell_type": "code",
   "execution_count": 18,
   "id": "6f145c1c-6ef4-4e5d-b946-51bda7e63713",
   "metadata": {},
   "outputs": [
    {
     "data": {
      "text/plain": [
       "150"
      ]
     },
     "execution_count": 18,
     "metadata": {},
     "output_type": "execute_result"
    }
   ],
   "source": [
    "sum(100,50)"
   ]
  },
  {
   "cell_type": "code",
   "execution_count": 21,
   "id": "3931ba30-9d38-41d8-9094-6c8ca3d2ea6a",
   "metadata": {},
   "outputs": [],
   "source": [
    "sum_result = sum(5,10) #kalo ga make return akan none(gada valuenya)"
   ]
  },
  {
   "cell_type": "code",
   "execution_count": 22,
   "id": "f6bd535e-c667-414c-b404-69ca34b2d9a2",
   "metadata": {},
   "outputs": [
    {
     "name": "stdout",
     "output_type": "stream",
     "text": [
      "15\n"
     ]
    }
   ],
   "source": [
    "print(sum_result)"
   ]
  },
  {
   "cell_type": "code",
   "execution_count": 25,
   "id": "ee1e9a6d-acb6-4a7d-9a8f-177b854fdf11",
   "metadata": {},
   "outputs": [],
   "source": [
    "def multi_divide(a,b): #menyimpan multi divide defunction\n",
    "    result1 = a*b\n",
    "    result2 = a/b\n",
    "    return result1, result2"
   ]
  },
  {
   "cell_type": "code",
   "execution_count": 26,
   "id": "f179c0bd-a7fb-4ead-b393-141a9c71482e",
   "metadata": {},
   "outputs": [
    {
     "data": {
      "text/plain": [
       "(12, 3.0)"
      ]
     },
     "execution_count": 26,
     "metadata": {},
     "output_type": "execute_result"
    }
   ],
   "source": [
    "multi_divide(6,2)"
   ]
  },
  {
   "cell_type": "code",
   "execution_count": 27,
   "id": "b0b14f6f-49d6-4b91-8d8a-d55ce6477ef7",
   "metadata": {},
   "outputs": [],
   "source": [
    "multi_result, divide_result = multi_divide(6,2)"
   ]
  },
  {
   "cell_type": "code",
   "execution_count": 28,
   "id": "6fc34e64-8d6d-4454-b9c5-f95785579b79",
   "metadata": {},
   "outputs": [
    {
     "name": "stdout",
     "output_type": "stream",
     "text": [
      "12\n"
     ]
    }
   ],
   "source": [
    "print(multi_result)"
   ]
  },
  {
   "cell_type": "code",
   "execution_count": 29,
   "id": "87fcf4c7-3817-44aa-a130-a8821af842c2",
   "metadata": {},
   "outputs": [
    {
     "name": "stdout",
     "output_type": "stream",
     "text": [
      "3.0\n"
     ]
    }
   ],
   "source": [
    "print(divide_result)"
   ]
  },
  {
   "cell_type": "markdown",
   "id": "67066662-84c8-4069-a5f0-ba35fb3dc8a9",
   "metadata": {},
   "source": [
    "***UDF with Default Values***"
   ]
  },
  {
   "cell_type": "code",
   "execution_count": 2,
   "id": "0f059c64-3f81-4751-b23d-791c866bcd8c",
   "metadata": {},
   "outputs": [],
   "source": [
    "def sum(a,b):\n",
    "    result=a+b\n",
    "    return result"
   ]
  },
  {
   "cell_type": "code",
   "execution_count": 3,
   "id": "912f34bd-628b-4a0f-98fc-6606d9e8f2ef",
   "metadata": {},
   "outputs": [
    {
     "data": {
      "text/plain": [
       "15"
      ]
     },
     "execution_count": 3,
     "metadata": {},
     "output_type": "execute_result"
    }
   ],
   "source": [
    "sum(5,10)"
   ]
  },
  {
   "cell_type": "code",
   "execution_count": 4,
   "id": "27b1e732-3976-4688-af8e-3945e3fe1247",
   "metadata": {},
   "outputs": [
    {
     "data": {
      "text/plain": [
       "20"
      ]
     },
     "execution_count": 4,
     "metadata": {},
     "output_type": "execute_result"
    }
   ],
   "source": [
    "sum(10,10)"
   ]
  },
  {
   "cell_type": "code",
   "execution_count": 5,
   "id": "fdd18ac5-daaf-417a-97db-d0e6ab560aab",
   "metadata": {},
   "outputs": [
    {
     "ename": "TypeError",
     "evalue": "sum() missing 1 required positional argument: 'b'",
     "output_type": "error",
     "traceback": [
      "\u001b[1;31m---------------------------------------------------------------------------\u001b[0m",
      "\u001b[1;31mTypeError\u001b[0m                                 Traceback (most recent call last)",
      "Cell \u001b[1;32mIn[5], line 1\u001b[0m\n\u001b[1;32m----> 1\u001b[0m \u001b[38;5;28msum\u001b[39m(\u001b[38;5;241m10\u001b[39m)\n",
      "\u001b[1;31mTypeError\u001b[0m: sum() missing 1 required positional argument: 'b'"
     ]
    }
   ],
   "source": [
    "sum(10) #akan error karena blm di define"
   ]
  },
  {
   "cell_type": "code",
   "execution_count": 6,
   "id": "72a4972d-737f-435b-8766-8a3588a2b510",
   "metadata": {},
   "outputs": [],
   "source": [
    "def sum(a = 0,b = 0): #melakukan define menambahkan value pada a, b\n",
    "    result = a+b\n",
    "    return result"
   ]
  },
  {
   "cell_type": "code",
   "execution_count": 7,
   "id": "f35facd6-b870-4321-a291-bb17afd162c8",
   "metadata": {},
   "outputs": [
    {
     "data": {
      "text/plain": [
       "20"
      ]
     },
     "execution_count": 7,
     "metadata": {},
     "output_type": "execute_result"
    }
   ],
   "source": [
    "sum(10,10)"
   ]
  },
  {
   "cell_type": "code",
   "execution_count": 9,
   "id": "87bc9361-98a6-4cc0-8942-9d54ebed2add",
   "metadata": {},
   "outputs": [
    {
     "data": {
      "text/plain": [
       "10"
      ]
     },
     "execution_count": 9,
     "metadata": {},
     "output_type": "execute_result"
    }
   ],
   "source": [
    "sum(10) #bisa di run karena sudah di define"
   ]
  },
  {
   "cell_type": "code",
   "execution_count": 10,
   "id": "3803993f-bc9e-4ba6-9cf9-5f2ced3fed0e",
   "metadata": {},
   "outputs": [
    {
     "data": {
      "text/plain": [
       "<function __main__.sum(a=0, b=0)>"
      ]
     },
     "execution_count": 10,
     "metadata": {},
     "output_type": "execute_result"
    }
   ],
   "source": [
    "sum"
   ]
  },
  {
   "cell_type": "code",
   "execution_count": 11,
   "id": "0a6cc541-ed53-4cbb-9c47-30c5ccd5c367",
   "metadata": {},
   "outputs": [
    {
     "data": {
      "text/plain": [
       "100"
      ]
     },
     "execution_count": 11,
     "metadata": {},
     "output_type": "execute_result"
    }
   ],
   "source": [
    "sum(100)"
   ]
  },
  {
   "cell_type": "code",
   "execution_count": 12,
   "id": "90e548a3-3b56-4286-b1e2-7029bf686304",
   "metadata": {},
   "outputs": [
    {
     "data": {
      "text/plain": [
       "15"
      ]
     },
     "execution_count": 12,
     "metadata": {},
     "output_type": "execute_result"
    }
   ],
   "source": [
    "sum(15)"
   ]
  },
  {
   "cell_type": "code",
   "execution_count": 13,
   "id": "20a2d810-b54b-470d-84be-f71b38d71cdb",
   "metadata": {},
   "outputs": [],
   "source": [
    "def multi_divide(a = 1,b = 1): #menyimpan multi divide defunction dengan default value\n",
    "    result1 = a*b\n",
    "    result2 = a/b\n",
    "    return result1, result2"
   ]
  },
  {
   "cell_type": "code",
   "execution_count": 14,
   "id": "c2129d1d-d23e-441c-8bbe-956025ea25d1",
   "metadata": {},
   "outputs": [
    {
     "data": {
      "text/plain": [
       "(6, 6.0)"
      ]
     },
     "execution_count": 14,
     "metadata": {},
     "output_type": "execute_result"
    }
   ],
   "source": [
    "multi_divide(6)"
   ]
  },
  {
   "cell_type": "code",
   "execution_count": 15,
   "id": "65e1c105-fe28-4271-8c9b-a564afd37b02",
   "metadata": {},
   "outputs": [
    {
     "data": {
      "text/plain": [
       "(1, 1.0)"
      ]
     },
     "execution_count": 15,
     "metadata": {},
     "output_type": "execute_result"
    }
   ],
   "source": [
    "multi_divide()"
   ]
  },
  {
   "cell_type": "markdown",
   "id": "1a11d8e7-f924-44a0-bc90-0b46aea92f57",
   "metadata": {},
   "source": [
    "***UDF w/ if else/iteration***"
   ]
  },
  {
   "cell_type": "code",
   "execution_count": 16,
   "id": "e50710db-f3ba-4958-bf28-5a4d24e1ae8a",
   "metadata": {},
   "outputs": [],
   "source": [
    "def max_of_2(a = 0,b = 0):\n",
    "    if a > b:\n",
    "        result = a\n",
    "    else:\n",
    "        result = b\n",
    "    return result"
   ]
  },
  {
   "cell_type": "code",
   "execution_count": 17,
   "id": "159682cc-6708-4a8d-9168-a9e939044e50",
   "metadata": {},
   "outputs": [
    {
     "data": {
      "text/plain": [
       "5"
      ]
     },
     "execution_count": 17,
     "metadata": {},
     "output_type": "execute_result"
    }
   ],
   "source": [
    "max_of_2(1,5)"
   ]
  },
  {
   "cell_type": "code",
   "execution_count": 18,
   "id": "1d71202b-9532-45d2-b2d4-06e88e9aa149",
   "metadata": {},
   "outputs": [
    {
     "data": {
      "text/plain": [
       "107"
      ]
     },
     "execution_count": 18,
     "metadata": {},
     "output_type": "execute_result"
    }
   ],
   "source": [
    "max_of_2(107,54)"
   ]
  },
  {
   "cell_type": "code",
   "execution_count": 19,
   "id": "6d3e4d8b-e88e-4bb7-86f0-85aafb30d933",
   "metadata": {},
   "outputs": [],
   "source": [
    "def odd_even(a): #ganjil & genap\n",
    "    if a%2 == 0:\n",
    "        print (\"a is even\")\n",
    "    else:\n",
    "        print (\"a is odd\")"
   ]
  },
  {
   "cell_type": "code",
   "execution_count": 20,
   "id": "677d8e72-2dcd-4f67-bc31-c674be81437a",
   "metadata": {},
   "outputs": [
    {
     "name": "stdout",
     "output_type": "stream",
     "text": [
      "a is odd\n"
     ]
    }
   ],
   "source": [
    "odd_even(1)"
   ]
  },
  {
   "cell_type": "code",
   "execution_count": 21,
   "id": "4acd9c67-1f2c-4364-b61e-2cc85a729f84",
   "metadata": {},
   "outputs": [
    {
     "name": "stdout",
     "output_type": "stream",
     "text": [
      "a is even\n"
     ]
    }
   ],
   "source": [
    "odd_even(10)"
   ]
  },
  {
   "cell_type": "code",
   "execution_count": 32,
   "id": "7299771a-6daa-4563-aacc-0f75caa78a7b",
   "metadata": {},
   "outputs": [],
   "source": [
    "def power(a,b):\n",
    "    result = a\n",
    "    for i in range(b-1):\n",
    "        result = result * a\n",
    "    return result"
   ]
  },
  {
   "cell_type": "code",
   "execution_count": 33,
   "id": "fdab09fd-037e-4988-857f-2df3a6c2f03d",
   "metadata": {},
   "outputs": [
    {
     "data": {
      "text/plain": [
       "8"
      ]
     },
     "execution_count": 33,
     "metadata": {},
     "output_type": "execute_result"
    }
   ],
   "source": [
    "power(2,3)"
   ]
  },
  {
   "cell_type": "code",
   "execution_count": 34,
   "id": "65bd2366-45d0-4b9a-b5fb-dd18b922c01e",
   "metadata": {},
   "outputs": [
    {
     "data": {
      "text/plain": [
       "9"
      ]
     },
     "execution_count": 34,
     "metadata": {},
     "output_type": "execute_result"
    }
   ],
   "source": [
    "power(3,2)"
   ]
  },
  {
   "cell_type": "code",
   "execution_count": 46,
   "id": "3060feae-8c21-4c2b-859d-47d233b08f9b",
   "metadata": {},
   "outputs": [],
   "source": [
    "def sum_of_list(a):\n",
    "    result = 0\n",
    "    for i in a:\n",
    "        result = result + i\n",
    "    return result"
   ]
  },
  {
   "cell_type": "code",
   "execution_count": 47,
   "id": "529f78c2-d6ef-4fef-86d4-5e4ccd714dec",
   "metadata": {},
   "outputs": [
    {
     "name": "stdout",
     "output_type": "stream",
     "text": [
      "10\n"
     ]
    }
   ],
   "source": [
    "print(sum_of_list([1,2,3,4]))"
   ]
  },
  {
   "cell_type": "code",
   "execution_count": 48,
   "id": "2730c7c5-29f1-4e2a-8c4a-5918826ffc04",
   "metadata": {},
   "outputs": [
    {
     "name": "stdout",
     "output_type": "stream",
     "text": [
      "1112\n"
     ]
    }
   ],
   "source": [
    "print(sum_of_list([100,252,360,400]))"
   ]
  },
  {
   "cell_type": "code",
   "execution_count": null,
   "id": "7964adc1-6856-46f7-be07-c7694f114844",
   "metadata": {},
   "outputs": [],
   "source": []
  }
 ],
 "metadata": {
  "kernelspec": {
   "display_name": "Python 3 (ipykernel)",
   "language": "python",
   "name": "python3"
  },
  "language_info": {
   "codemirror_mode": {
    "name": "ipython",
    "version": 3
   },
   "file_extension": ".py",
   "mimetype": "text/x-python",
   "name": "python",
   "nbconvert_exporter": "python",
   "pygments_lexer": "ipython3",
   "version": "3.13.5"
  }
 },
 "nbformat": 4,
 "nbformat_minor": 5
}
