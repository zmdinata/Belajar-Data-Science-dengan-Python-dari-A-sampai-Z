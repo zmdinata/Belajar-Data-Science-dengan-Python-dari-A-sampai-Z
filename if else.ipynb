{
 "cells": [
  {
   "cell_type": "code",
   "execution_count": 3,
   "id": "7614637e-0b7a-4fc4-ac83-1a51ba7da6c3",
   "metadata": {},
   "outputs": [],
   "source": [
    "x = 1\n",
    "y = 1"
   ]
  },
  {
   "cell_type": "code",
   "execution_count": 4,
   "id": "6e151ccb-75bf-46db-976c-ad4c2b5816ac",
   "metadata": {},
   "outputs": [],
   "source": [
    "x,y = 1,5"
   ]
  },
  {
   "cell_type": "code",
   "execution_count": 5,
   "id": "a6c28ab2-d1d5-4930-b908-23935ddfb0af",
   "metadata": {},
   "outputs": [
    {
     "data": {
      "text/plain": [
       "1"
      ]
     },
     "execution_count": 5,
     "metadata": {},
     "output_type": "execute_result"
    }
   ],
   "source": [
    "x"
   ]
  },
  {
   "cell_type": "code",
   "execution_count": 6,
   "id": "d1ef87b9-8f94-419e-b839-01959365ffbf",
   "metadata": {},
   "outputs": [
    {
     "data": {
      "text/plain": [
       "5"
      ]
     },
     "execution_count": 6,
     "metadata": {},
     "output_type": "execute_result"
    }
   ],
   "source": [
    "y"
   ]
  },
  {
   "cell_type": "code",
   "execution_count": 7,
   "id": "36b1173d-88b6-4e41-a519-2d8f46b3c3ae",
   "metadata": {},
   "outputs": [
    {
     "name": "stdout",
     "output_type": "stream",
     "text": [
      "x is notequal to y\n"
     ]
    }
   ],
   "source": [
    "if x == y:\n",
    "    print('x is equal to y')\n",
    "else:\n",
    "    print('x is notequal to y')"
   ]
  },
  {
   "cell_type": "code",
   "execution_count": 8,
   "id": "722d0203-7d73-41da-8fef-737a40ef2d98",
   "metadata": {},
   "outputs": [
    {
     "name": "stdout",
     "output_type": "stream",
     "text": [
      "x is smaller than y\n"
     ]
    }
   ],
   "source": [
    "if x == y:\n",
    "    print ('x is equal to y')\n",
    "elif x > y:\n",
    "    print ('x is larger than y')\n",
    "else: print ('x is smaller than y')"
   ]
  },
  {
   "cell_type": "code",
   "execution_count": 9,
   "id": "0125231a-e7f9-4a92-8b63-cd6a4a108949",
   "metadata": {},
   "outputs": [
    {
     "name": "stdout",
     "output_type": "stream",
     "text": [
      "4\n"
     ]
    }
   ],
   "source": [
    "if x == y:\n",
    "    z = 0\n",
    "elif x > y :\n",
    "    z= x - y\n",
    "else: \n",
    "    z = y - x\n",
    "\n",
    "print(z)"
   ]
  },
  {
   "cell_type": "code",
   "execution_count": 10,
   "id": "a949012f-cfb5-4ce0-99e2-dd09d6a8473d",
   "metadata": {},
   "outputs": [],
   "source": [
    "x,y= 100,20"
   ]
  },
  {
   "cell_type": "code",
   "execution_count": 11,
   "id": "73337f03-68f6-4018-ab4e-6830d0e91c3e",
   "metadata": {},
   "outputs": [
    {
     "name": "stdout",
     "output_type": "stream",
     "text": [
      "80\n"
     ]
    }
   ],
   "source": [
    "if x == y:\n",
    "    z = 0\n",
    "elif x > y :\n",
    "    z= x - y\n",
    "else: \n",
    "    z = y - x\n",
    "\n",
    "print(z)"
   ]
  },
  {
   "cell_type": "code",
   "execution_count": 12,
   "id": "97bc8484-b77b-4971-b279-40d8bccfdf32",
   "metadata": {},
   "outputs": [],
   "source": [
    "x,y = 9,15"
   ]
  },
  {
   "cell_type": "code",
   "execution_count": 13,
   "id": "5768f332-b833-4fd0-9664-643a486c30fe",
   "metadata": {},
   "outputs": [
    {
     "name": "stdout",
     "output_type": "stream",
     "text": [
      "only x bellow 10\n"
     ]
    }
   ],
   "source": [
    "if x < 10:\n",
    "    if y < 10:\n",
    "        print (\"both are below 10\")\n",
    "    else:\n",
    "        print (\"only x bellow 10\")\n",
    "else:\n",
    "    if y < 10:\n",
    "        print (\"only y is bellow 10\")\n",
    "    else:\n",
    "        print(\"no value is beloow 10\")"
   ]
  },
  {
   "cell_type": "code",
   "execution_count": null,
   "id": "ef41f982-cf18-4d5a-a2da-127bdc0057fe",
   "metadata": {},
   "outputs": [],
   "source": []
  }
 ],
 "metadata": {
  "kernelspec": {
   "display_name": "Python 3 (ipykernel)",
   "language": "python",
   "name": "python3"
  },
  "language_info": {
   "codemirror_mode": {
    "name": "ipython",
    "version": 3
   },
   "file_extension": ".py",
   "mimetype": "text/x-python",
   "name": "python",
   "nbconvert_exporter": "python",
   "pygments_lexer": "ipython3",
   "version": "3.13.5"
  }
 },
 "nbformat": 4,
 "nbformat_minor": 5
}
