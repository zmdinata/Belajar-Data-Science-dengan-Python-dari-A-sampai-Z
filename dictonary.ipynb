{
 "cells": [
  {
   "cell_type": "code",
   "execution_count": 46,
   "id": "2e95acee-5d3b-4587-b662-10e9ae5f6561",
   "metadata": {},
   "outputs": [],
   "source": [
    "customers_info={'name':['adam','ann','ed','ben','beth'], 'age':[25,23,28,29,30], 'purchase_count':[2,3,5,0,1]}"
   ]
  },
  {
   "cell_type": "code",
   "execution_count": 47,
   "id": "fca494d2-945f-4a0d-bd15-112ddc4e6b06",
   "metadata": {},
   "outputs": [
    {
     "data": {
      "text/plain": [
       "{'name': ['adam', 'ann', 'ed', 'ben', 'beth'],\n",
       " 'age': [25, 23, 28, 29, 30],\n",
       " 'purchase_count': [2, 3, 5, 0, 1]}"
      ]
     },
     "execution_count": 47,
     "metadata": {},
     "output_type": "execute_result"
    }
   ],
   "source": [
    "customers_info"
   ]
  },
  {
   "cell_type": "code",
   "execution_count": 48,
   "id": "a31e433b-2d1f-469d-9dcc-ee735310b008",
   "metadata": {},
   "outputs": [
    {
     "data": {
      "text/plain": [
       "['adam', 'ann', 'ed', 'ben', 'beth']"
      ]
     },
     "execution_count": 48,
     "metadata": {},
     "output_type": "execute_result"
    }
   ],
   "source": [
    "customers_info['name']"
   ]
  },
  {
   "cell_type": "code",
   "execution_count": 49,
   "id": "1e6c1107-33ad-4d66-88d5-6bac31f1b0d8",
   "metadata": {},
   "outputs": [
    {
     "data": {
      "text/plain": [
       "{'name': ['adam', 'ann', 'ed', 'ben', 'beth'],\n",
       " 'age': [25, 23, 28, 29, 30],\n",
       " 'purchase_count': [2, 3, 5, 0, 1]}"
      ]
     },
     "execution_count": 49,
     "metadata": {},
     "output_type": "execute_result"
    }
   ],
   "source": [
    "customers_info"
   ]
  },
  {
   "cell_type": "code",
   "execution_count": 50,
   "id": "8aca5c3d-0eeb-429f-a3b7-efc7e8e9b649",
   "metadata": {},
   "outputs": [
    {
     "data": {
      "text/plain": [
       "dict_keys(['name', 'age', 'purchase_count'])"
      ]
     },
     "execution_count": 50,
     "metadata": {},
     "output_type": "execute_result"
    }
   ],
   "source": [
    "#Keys (ingin mengeluarkan list listnya saja\n",
    "\n",
    "dict.keys(customers_info)"
   ]
  },
  {
   "cell_type": "code",
   "execution_count": 51,
   "id": "1ac32ac6-4c20-428e-af13-20b899315dc7",
   "metadata": {},
   "outputs": [],
   "source": [
    "#update (update atau menambahkan dictonary baru)\n",
    "\n",
    "customers_info.update({\n",
    "    \"city\" :['Bandung','tangerang', 'jakarta', 'bandung', 'bogor']})"
   ]
  },
  {
   "cell_type": "code",
   "execution_count": 52,
   "id": "1fe0cf51-8826-4395-83c7-0b4daa6710cf",
   "metadata": {},
   "outputs": [
    {
     "data": {
      "text/plain": [
       "{'name': ['adam', 'ann', 'ed', 'ben', 'beth'],\n",
       " 'age': [25, 23, 28, 29, 30],\n",
       " 'purchase_count': [2, 3, 5, 0, 1],\n",
       " 'city': ['Bandung', 'tangerang', 'jakarta', 'bandung', 'bogor']}"
      ]
     },
     "execution_count": 52,
     "metadata": {},
     "output_type": "execute_result"
    }
   ],
   "source": [
    "customers_info"
   ]
  },
  {
   "cell_type": "code",
   "execution_count": 58,
   "id": "72c30bb5-600a-4b0c-879e-bbac8d489174",
   "metadata": {},
   "outputs": [
    {
     "data": {
      "text/plain": [
       "'bogor'"
      ]
     },
     "execution_count": 58,
     "metadata": {},
     "output_type": "execute_result"
    }
   ],
   "source": [
    "#pop (menghapus item terakhir di dictonary kita)\n",
    "\n",
    "customer_info = {'name': ['adam', 'ann', 'ed', 'ben', 'beth'],\n",
    " 'age': [25, 23, 28, 29, 30],\n",
    " 'purchase_count': [2, 3, 5, 0, 1],\n",
    " 'city': ['Bandung', 'tangerang', 'jakarta', 'bandung', 'bogor']}\n",
    "\n",
    "customer_info[\"name\"].pop()\n",
    "customer_info[\"age\"].pop()\n",
    "customer_info[\"purchase_count\"].pop()\n",
    "customer_info[\"city\"].pop()"
   ]
  },
  {
   "cell_type": "code",
   "execution_count": 59,
   "id": "18f8a72b-a8bb-4560-a3d7-2d48e4ac9cb1",
   "metadata": {},
   "outputs": [
    {
     "data": {
      "text/plain": [
       "{'name': ['adam', 'ann', 'ed', 'ben', 'beth'],\n",
       " 'age': [25, 23, 28, 29, 30],\n",
       " 'purchase_count': [2, 3, 5, 0, 1],\n",
       " 'city': ['Bandung', 'tangerang', 'jakarta', 'bandung', 'bogor']}"
      ]
     },
     "execution_count": 59,
     "metadata": {},
     "output_type": "execute_result"
    }
   ],
   "source": [
    "customers_info"
   ]
  },
  {
   "cell_type": "code",
   "execution_count": 62,
   "id": "f27ffe88-2442-416f-a855-eaaee4a2feef",
   "metadata": {},
   "outputs": [],
   "source": [
    "#copy (mencopy tanpa harus mengubahdictonary file originalagar meminimalisir error)\n",
    "\n",
    "customers_info2 = customers_info.copy()"
   ]
  },
  {
   "cell_type": "code",
   "execution_count": 63,
   "id": "67e79b50-790b-469c-aa13-a081ff34c65c",
   "metadata": {},
   "outputs": [
    {
     "data": {
      "text/plain": [
       "{'name': ['adam', 'ann', 'ed', 'ben', 'beth'],\n",
       " 'age': [25, 23, 28, 29, 30],\n",
       " 'purchase_count': [2, 3, 5, 0, 1],\n",
       " 'city': ['Bandung', 'tangerang', 'jakarta', 'bandung', 'bogor']}"
      ]
     },
     "execution_count": 63,
     "metadata": {},
     "output_type": "execute_result"
    }
   ],
   "source": [
    "customers_info2"
   ]
  },
  {
   "cell_type": "code",
   "execution_count": 64,
   "id": "38a568ea-ba42-4b65-a995-9c7e97694153",
   "metadata": {},
   "outputs": [],
   "source": [
    "#clear (menghapus semua keys dan value didictonary kita)\n",
    "\n",
    "customer_info.clear()"
   ]
  },
  {
   "cell_type": "code",
   "execution_count": 65,
   "id": "21f88124-a5bf-4063-8f8f-4a725ba6521a",
   "metadata": {},
   "outputs": [
    {
     "data": {
      "text/plain": [
       "{'name': ['adam', 'ann', 'ed', 'ben', 'beth'],\n",
       " 'age': [25, 23, 28, 29, 30],\n",
       " 'purchase_count': [2, 3, 5, 0, 1],\n",
       " 'city': ['Bandung', 'tangerang', 'jakarta', 'bandung', 'bogor']}"
      ]
     },
     "execution_count": 65,
     "metadata": {},
     "output_type": "execute_result"
    }
   ],
   "source": [
    "customers_info"
   ]
  },
  {
   "cell_type": "code",
   "execution_count": null,
   "id": "d04579ac-1ff1-4c8f-9ade-bae0a7eb00a8",
   "metadata": {},
   "outputs": [],
   "source": []
  }
 ],
 "metadata": {
  "kernelspec": {
   "display_name": "Python 3 (ipykernel)",
   "language": "python",
   "name": "python3"
  },
  "language_info": {
   "codemirror_mode": {
    "name": "ipython",
    "version": 3
   },
   "file_extension": ".py",
   "mimetype": "text/x-python",
   "name": "python",
   "nbconvert_exporter": "python",
   "pygments_lexer": "ipython3",
   "version": "3.13.5"
  }
 },
 "nbformat": 4,
 "nbformat_minor": 5
}
