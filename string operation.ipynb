{
 "cells": [
  {
   "cell_type": "code",
   "execution_count": 10,
   "id": "a034e898-0b1d-4b2d-aad5-7bd8ee3f3b81",
   "metadata": {
    "editable": true,
    "slideshow": {
     "slide_type": ""
    },
    "tags": []
   },
   "outputs": [
    {
     "name": "stdout",
     "output_type": "stream",
     "text": [
      "Zacky\n",
      "Dinata\n"
     ]
    }
   ],
   "source": [
    "first_name = \"Zacky\"\n",
    "last_name = \"Dinata\"\n",
    "print(first_name)\n",
    "print(last_name)"
   ]
  },
  {
   "cell_type": "code",
   "execution_count": 11,
   "id": "f03e2276-b30f-433f-bfa7-fd14c2ca2862",
   "metadata": {
    "editable": true,
    "slideshow": {
     "slide_type": ""
    },
    "tags": []
   },
   "outputs": [
    {
     "data": {
      "text/plain": [
       "'ZackyDinata'"
      ]
     },
     "execution_count": 11,
     "metadata": {},
     "output_type": "execute_result"
    }
   ],
   "source": [
    "first_name + last_name #tanpa spasi"
   ]
  },
  {
   "cell_type": "code",
   "execution_count": 12,
   "id": "12184b86-6f2d-43a0-93da-d6302c452c0d",
   "metadata": {},
   "outputs": [
    {
     "data": {
      "text/plain": [
       "'Zacky Dinata'"
      ]
     },
     "execution_count": 12,
     "metadata": {},
     "output_type": "execute_result"
    }
   ],
   "source": [
    "first_name + \" \" + last_name #space di tengah"
   ]
  },
  {
   "cell_type": "code",
   "execution_count": 13,
   "id": "5a8ff6cd-22f3-4db6-84c0-8518539b9bd0",
   "metadata": {},
   "outputs": [
    {
     "data": {
      "text/plain": [
       "'Zacky_Dinata'"
      ]
     },
     "execution_count": 13,
     "metadata": {},
     "output_type": "execute_result"
    }
   ],
   "source": [
    "first_name + \"_\" + last_name #underscore di tengah"
   ]
  },
  {
   "cell_type": "code",
   "execution_count": 15,
   "id": "bf94da07-cfc9-40a0-8220-dc5ef9ee81fc",
   "metadata": {},
   "outputs": [
    {
     "data": {
      "text/plain": [
       "'zacky'"
      ]
     },
     "execution_count": 15,
     "metadata": {},
     "output_type": "execute_result"
    }
   ],
   "source": [
    "str.lower(first_name) #buat jadi lowercase semua"
   ]
  },
  {
   "cell_type": "code",
   "execution_count": 16,
   "id": "60a5305f-2e13-4170-8a02-72ac379f53f9",
   "metadata": {},
   "outputs": [
    {
     "data": {
      "text/plain": [
       "'ZACKY'"
      ]
     },
     "execution_count": 16,
     "metadata": {},
     "output_type": "execute_result"
    }
   ],
   "source": [
    "str.upper(first_name) #buat jadi uppercase semua"
   ]
  },
  {
   "cell_type": "code",
   "execution_count": 19,
   "id": "46cc735e-86f3-48ce-8b5e-e44d3ad13636",
   "metadata": {},
   "outputs": [
    {
     "name": "stdout",
     "output_type": "stream",
     "text": [
      "Dzacky Muhammad Dinata\n"
     ]
    }
   ],
   "source": [
    "name = \"Dzacky Muhammad Dinata\"\n",
    "print(name)"
   ]
  },
  {
   "cell_type": "code",
   "execution_count": 20,
   "id": "52ab75c1-864a-4860-aaf8-cbabb57ebbe0",
   "metadata": {},
   "outputs": [
    {
     "data": {
      "text/plain": [
       "'Zacky Muhammad Dinata'"
      ]
     },
     "execution_count": 20,
     "metadata": {},
     "output_type": "execute_result"
    }
   ],
   "source": [
    "name.replace(\"Dzacky\", \"Zacky\")"
   ]
  },
  {
   "cell_type": "code",
   "execution_count": 21,
   "id": "3d704b0c-1e9a-40bc-b71c-861a11b3366b",
   "metadata": {},
   "outputs": [
    {
     "data": {
      "text/plain": [
       "'Dzacky   Dinata'"
      ]
     },
     "execution_count": 21,
     "metadata": {},
     "output_type": "execute_result"
    }
   ],
   "source": [
    "name.replace(\"Muhammad\", \" \")"
   ]
  },
  {
   "cell_type": "code",
   "execution_count": null,
   "id": "0800435e-c535-481b-9145-d2c508b3254c",
   "metadata": {},
   "outputs": [],
   "source": []
  }
 ],
 "metadata": {
  "kernelspec": {
   "display_name": "Python 3 (ipykernel)",
   "language": "python",
   "name": "python3"
  },
  "language_info": {
   "codemirror_mode": {
    "name": "ipython",
    "version": 3
   },
   "file_extension": ".py",
   "mimetype": "text/x-python",
   "name": "python",
   "nbconvert_exporter": "python",
   "pygments_lexer": "ipython3",
   "version": "3.13.5"
  }
 },
 "nbformat": 4,
 "nbformat_minor": 5
}
