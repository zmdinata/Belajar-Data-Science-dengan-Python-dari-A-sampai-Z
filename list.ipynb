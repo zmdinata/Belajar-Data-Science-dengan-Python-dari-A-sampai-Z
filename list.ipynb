{
 "cells": [
  {
   "cell_type": "raw",
   "id": "77130f5a-e030-4ec4-b83d-fb94f9a26313",
   "metadata": {},
   "source": [
    "List #indexing and filtering"
   ]
  },
  {
   "cell_type": "code",
   "execution_count": 5,
   "id": "fbab3641-cd23-4790-8998-e3a39267131c",
   "metadata": {},
   "outputs": [
    {
     "name": "stdout",
     "output_type": "stream",
     "text": [
      "New York\n",
      "Tokyo\n"
     ]
    }
   ],
   "source": [
    "#indexing and filtering\n",
    "list_1 = [\"New York\", \"Tokyo\", \"Montreal\", \"Berlin\"]\n",
    "print(list_1[0])\n",
    "print(list_1[1])"
   ]
  },
  {
   "cell_type": "code",
   "execution_count": 10,
   "id": "af40731d-c6e1-4d44-9973-59d400d66a3c",
   "metadata": {},
   "outputs": [],
   "source": [
    "#contoh list\n",
    "customers=[123,124,125,126,127,128]"
   ]
  },
  {
   "cell_type": "code",
   "execution_count": 21,
   "id": "8c6de491-7171-46dd-9ba6-1980750c0bc3",
   "metadata": {},
   "outputs": [
    {
     "name": "stdout",
     "output_type": "stream",
     "text": [
      "[123, 124, 125, 126, 127, 128]\n"
     ]
    }
   ],
   "source": [
    "customers=[123,124,125,126,127,128]\n",
    "print (customers)"
   ]
  },
  {
   "cell_type": "code",
   "execution_count": 22,
   "id": "5f7f10ff-80b4-4a31-8b24-9994c31aa9a7",
   "metadata": {},
   "outputs": [
    {
     "name": "stdout",
     "output_type": "stream",
     "text": [
      "123\n",
      "124\n",
      "128\n",
      "127\n"
     ]
    }
   ],
   "source": [
    "customers=[123,124,125,126,127,128]\n",
    "print (customers[0])\n",
    "print (customers[1])\n",
    "print (customers[-1])\n",
    "print (customers[-2])"
   ]
  },
  {
   "cell_type": "code",
   "execution_count": 41,
   "id": "32d2fa2e-dff0-4131-8f5b-b6080d07e955",
   "metadata": {},
   "outputs": [
    {
     "data": {
      "text/plain": [
       "[123, 124, 125]"
      ]
     },
     "execution_count": 41,
     "metadata": {},
     "output_type": "execute_result"
    }
   ],
   "source": [
    "customers[0:3] #ngambil 3 data list atau multiplelist dari list 1 - 3"
   ]
  },
  {
   "cell_type": "code",
   "execution_count": 42,
   "id": "c77f4107-8915-4696-b2b4-fb582d98a5a8",
   "metadata": {},
   "outputs": [
    {
     "data": {
      "text/plain": [
       "[124, 125, 126]"
      ]
     },
     "execution_count": 42,
     "metadata": {},
     "output_type": "execute_result"
    }
   ],
   "source": [
    "customers[1:4] #ngambil 3 data list atau multiplelist dari list 2 - 4"
   ]
  },
  {
   "cell_type": "code",
   "execution_count": 43,
   "id": "85f89d85-0d34-4389-bc4a-f1fe7c7210e1",
   "metadata": {},
   "outputs": [
    {
     "data": {
      "text/plain": [
       "[126, 127]"
      ]
     },
     "execution_count": 43,
     "metadata": {},
     "output_type": "execute_result"
    }
   ],
   "source": [
    "customers[-3:-1] #ngambil 2 data list atau multiplelist dari list 2 - 3 versi DESC"
   ]
  },
  {
   "cell_type": "code",
   "execution_count": 81,
   "id": "af338c8e-7bc5-4222-92c4-b19cf8b1e1b7",
   "metadata": {},
   "outputs": [],
   "source": [
    "#len (panjang list)\n",
    "\n",
    "customers=[123,124,125,126,127,128]"
   ]
  },
  {
   "cell_type": "code",
   "execution_count": 82,
   "id": "240c80f7-6408-4235-8272-69b43d9cc767",
   "metadata": {},
   "outputs": [
    {
     "ename": "TypeError",
     "evalue": "'list' object is not callable",
     "output_type": "error",
     "traceback": [
      "\u001b[1;31m---------------------------------------------------------------------------\u001b[0m",
      "\u001b[1;31mTypeError\u001b[0m                                 Traceback (most recent call last)",
      "Cell \u001b[1;32mIn[82], line 1\u001b[0m\n\u001b[1;32m----> 1\u001b[0m \u001b[38;5;28mlen\u001b[39m(customers)\n",
      "\u001b[1;31mTypeError\u001b[0m: 'list' object is not callable"
     ]
    }
   ],
   "source": [
    "len(customers)"
   ]
  },
  {
   "cell_type": "code",
   "execution_count": 83,
   "id": "0542988a-2125-4772-8dcd-9d929665e60f",
   "metadata": {},
   "outputs": [],
   "source": [
    "#append (menambahkan item baru ke list kita di indexs terakhir)\n",
    "\n",
    "customers.append(129)"
   ]
  },
  {
   "cell_type": "code",
   "execution_count": 84,
   "id": "11fd3f71-14f6-4514-9fc1-5c8e6f1c019b",
   "metadata": {},
   "outputs": [
    {
     "data": {
      "text/plain": [
       "[123, 124, 125, 126, 127, 128, 129]"
      ]
     },
     "execution_count": 84,
     "metadata": {},
     "output_type": "execute_result"
    }
   ],
   "source": [
    "customers"
   ]
  },
  {
   "cell_type": "code",
   "execution_count": 85,
   "id": "eec05753-3d50-408d-8ad0-0e6d341577ba",
   "metadata": {},
   "outputs": [],
   "source": [
    "#copy (duplikasi untuk menghindari kesalahanagar list original masih aman)\n",
    "\n",
    "customers2=customers.copy()"
   ]
  },
  {
   "cell_type": "code",
   "execution_count": 86,
   "id": "15f3732a-e496-4740-8a9e-bfe2b6ba122b",
   "metadata": {
    "jp-MarkdownHeadingCollapsed": true
   },
   "outputs": [
    {
     "data": {
      "text/plain": [
       "[123, 124, 125, 126, 127, 128, 129]"
      ]
     },
     "execution_count": 86,
     "metadata": {},
     "output_type": "execute_result"
    }
   ],
   "source": [
    " customers2"
   ]
  },
  {
   "cell_type": "code",
   "execution_count": 87,
   "id": "a287bb56-81e8-4eac-8ef0-696c54015a3a",
   "metadata": {},
   "outputs": [
    {
     "data": {
      "text/plain": [
       "[]"
      ]
     },
     "execution_count": 87,
     "metadata": {},
     "output_type": "execute_result"
    }
   ],
   "source": [
    "#CLEAR (MENGHAPUS ISI LIST)\n",
    "\n",
    "customers.clear()\n",
    "customers"
   ]
  },
  {
   "cell_type": "code",
   "execution_count": 88,
   "id": "2ecc1caa-ea4f-49f8-a0a9-ed2a85f70762",
   "metadata": {},
   "outputs": [],
   "source": [
    "customers=[123,124,125,126,127,128]"
   ]
  },
  {
   "cell_type": "code",
   "execution_count": 89,
   "id": "970c412f-fadf-4cad-a407-a5d81186ba5f",
   "metadata": {},
   "outputs": [
    {
     "data": {
      "text/plain": [
       "[123, 124, 130, 125, 126, 127, 128]"
      ]
     },
     "execution_count": 89,
     "metadata": {},
     "output_type": "execute_result"
    }
   ],
   "source": [
    "#insert (sama kek append tpi bedanya ini bisa di letakan di indexs manapun)\n",
    "\n",
    "customers.insert(2, 130)\n",
    "customers"
   ]
  },
  {
   "cell_type": "code",
   "execution_count": 91,
   "id": "69e59682-c4e5-4d95-aeba-23559f562ff0",
   "metadata": {},
   "outputs": [
    {
     "data": {
      "text/plain": [
       "6"
      ]
     },
     "execution_count": 91,
     "metadata": {},
     "output_type": "execute_result"
    }
   ],
   "source": [
    "#index (mencari lokasi dari suatu nilai/value)\n",
    "customers.index(128)"
   ]
  },
  {
   "cell_type": "code",
   "execution_count": 94,
   "id": "d366c127-8d7a-455b-a3f6-45a1a3f42c66",
   "metadata": {},
   "outputs": [
    {
     "data": {
      "text/plain": [
       "[123, 124, 130, 125, 126, 127, 128, 131, 132, 133]"
      ]
     },
     "execution_count": 94,
     "metadata": {},
     "output_type": "execute_result"
    }
   ],
   "source": [
    "#extend (sama kek append tapi ini bisa multiply item)\n",
    "\n",
    "additional_customers = [131,132,133]\n",
    "customers.extend(additional_customers)\n",
    "\n",
    "customers"
   ]
  },
  {
   "cell_type": "code",
   "execution_count": null,
   "id": "7c678053-376c-4cee-a850-cda44c84c4a5",
   "metadata": {},
   "outputs": [],
   "source": []
  }
 ],
 "metadata": {
  "kernelspec": {
   "display_name": "Python 3 (ipykernel)",
   "language": "python",
   "name": "python3"
  },
  "language_info": {
   "codemirror_mode": {
    "name": "ipython",
    "version": 3
   },
   "file_extension": ".py",
   "mimetype": "text/x-python",
   "name": "python",
   "nbconvert_exporter": "python",
   "pygments_lexer": "ipython3",
   "version": "3.13.5"
  }
 },
 "nbformat": 4,
 "nbformat_minor": 5
}
