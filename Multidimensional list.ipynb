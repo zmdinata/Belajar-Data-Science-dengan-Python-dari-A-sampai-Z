{
 "cells": [
  {
   "cell_type": "code",
   "execution_count": 1,
   "id": "a9ee4263-1277-4f7a-aa50-692c3af04c27",
   "metadata": {},
   "outputs": [],
   "source": [
    "customers=[[123,124,125], ['adam','ann','ed'],[25,23,28]]"
   ]
  },
  {
   "cell_type": "code",
   "execution_count": 3,
   "id": "76778dfd-248b-48e9-8f92-17d8f51ffe89",
   "metadata": {},
   "outputs": [
    {
     "data": {
      "text/plain": [
       "['adam', 'ann', 'ed']"
      ]
     },
     "execution_count": 3,
     "metadata": {},
     "output_type": "execute_result"
    }
   ],
   "source": [
    "customers[1]"
   ]
  },
  {
   "cell_type": "code",
   "execution_count": 4,
   "id": "459972d3-65e3-44e5-8f67-4469b46ce6e5",
   "metadata": {},
   "outputs": [
    {
     "data": {
      "text/plain": [
       "'adam'"
      ]
     },
     "execution_count": 4,
     "metadata": {},
     "output_type": "execute_result"
    }
   ],
   "source": [
    "customers[1][0]"
   ]
  },
  {
   "cell_type": "code",
   "execution_count": 5,
   "id": "d3d96529-3c5d-4fbc-970b-e59b7ba3ad07",
   "metadata": {},
   "outputs": [
    {
     "data": {
      "text/plain": [
       "28"
      ]
     },
     "execution_count": 5,
     "metadata": {},
     "output_type": "execute_result"
    }
   ],
   "source": [
    "customers[2][2]"
   ]
  },
  {
   "cell_type": "code",
   "execution_count": 6,
   "id": "f012fbaa-d9b2-4e3e-bcbc-7abb432e3c66",
   "metadata": {},
   "outputs": [],
   "source": [
    "#append outerlist\n",
    "city=['jakarta','bandung','tangerang']\n",
    "\n",
    "customers.append(city)"
   ]
  },
  {
   "cell_type": "code",
   "execution_count": 7,
   "id": "fc4f98d3-0507-4dde-9ce7-f9d713e01054",
   "metadata": {},
   "outputs": [
    {
     "data": {
      "text/plain": [
       "[[123, 124, 125],\n",
       " ['adam', 'ann', 'ed'],\n",
       " [25, 23, 28],\n",
       " ['jakarta', 'bandung', 'tangerang']]"
      ]
     },
     "execution_count": 7,
     "metadata": {},
     "output_type": "execute_result"
    }
   ],
   "source": [
    "customers"
   ]
  },
  {
   "cell_type": "code",
   "execution_count": 8,
   "id": "a9057086-08a5-4869-83b1-b7b6d002b206",
   "metadata": {},
   "outputs": [],
   "source": [
    "#append innerlist\n",
    "customers[0].append(126)"
   ]
  },
  {
   "cell_type": "code",
   "execution_count": 10,
   "id": "ea5ec5a1-8ce0-4c62-bebf-bda14eca39ae",
   "metadata": {},
   "outputs": [],
   "source": [
    "customers[1].append('bob')"
   ]
  },
  {
   "cell_type": "code",
   "execution_count": 11,
   "id": "c5e15b93-68ed-442b-a321-06cfdb8f2960",
   "metadata": {},
   "outputs": [],
   "source": [
    "customers[2].append(25)"
   ]
  },
  {
   "cell_type": "code",
   "execution_count": 13,
   "id": "1f0a4c60-138a-4c50-9e16-591de54f73fe",
   "metadata": {},
   "outputs": [],
   "source": [
    "customers[3].append('bogor')"
   ]
  },
  {
   "cell_type": "code",
   "execution_count": 14,
   "id": "af393717-812f-49ea-8ac2-856ec4e2c140",
   "metadata": {},
   "outputs": [
    {
     "data": {
      "text/plain": [
       "[[123, 124, 125, 126],\n",
       " ['adam', 'ann', 'ed', 'bob'],\n",
       " [25, 23, 28, 25],\n",
       " ['jakarta', 'bandung', 'tangerang', 'bogor']]"
      ]
     },
     "execution_count": 14,
     "metadata": {},
     "output_type": "execute_result"
    }
   ],
   "source": [
    "customers"
   ]
  },
  {
   "cell_type": "code",
   "execution_count": null,
   "id": "927d9c04-be5b-42f0-9c0a-06ddcd1fbac7",
   "metadata": {},
   "outputs": [],
   "source": [
    "#syntax lainnya sama kaya singlelist"
   ]
  }
 ],
 "metadata": {
  "kernelspec": {
   "display_name": "Python 3 (ipykernel)",
   "language": "python",
   "name": "python3"
  },
  "language_info": {
   "codemirror_mode": {
    "name": "ipython",
    "version": 3
   },
   "file_extension": ".py",
   "mimetype": "text/x-python",
   "name": "python",
   "nbconvert_exporter": "python",
   "pygments_lexer": "ipython3",
   "version": "3.13.5"
  }
 },
 "nbformat": 4,
 "nbformat_minor": 5
}
