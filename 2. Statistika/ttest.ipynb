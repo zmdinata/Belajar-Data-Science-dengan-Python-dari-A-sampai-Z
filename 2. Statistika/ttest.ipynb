{
 "cells": [
  {
   "cell_type": "markdown",
   "id": "ec908566-eef8-45d0-bd1b-ebe975706d57",
   "metadata": {},
   "source": [
    "T-Test"
   ]
  },
  {
   "cell_type": "code",
   "execution_count": 1,
   "id": "6bd39c04-446e-49f8-9ffa-b08ec60b0617",
   "metadata": {},
   "outputs": [],
   "source": [
    "import scipy.stats as stats"
   ]
  },
  {
   "cell_type": "code",
   "execution_count": 2,
   "id": "c4f51003-ffeb-4939-ae1d-27b36602243a",
   "metadata": {},
   "outputs": [],
   "source": [
    "import numpy as np"
   ]
  },
  {
   "cell_type": "code",
   "execution_count": 4,
   "id": "daf77f6e-fb78-4a58-a08f-1ae65b651169",
   "metadata": {},
   "outputs": [
    {
     "data": {
      "text/plain": [
       "array([22, 22, 24, 23, 22, 24, 24, 24, 24, 20, 22, 22, 22, 24, 20, 23, 24,\n",
       "       23, 22, 23, 23, 22, 22, 22, 20, 22, 24, 23, 20, 24], dtype=int32)"
      ]
     },
     "execution_count": 4,
     "metadata": {},
     "output_type": "execute_result"
    }
   ],
   "source": [
    " data = np.random.randint(20,25,30)\n",
    "data"
   ]
  },
  {
   "cell_type": "code",
   "execution_count": 5,
   "id": "ad4bf35f-b500-4a85-852c-c1f6a04d3701",
   "metadata": {},
   "outputs": [],
   "source": [
    "## one sided - Right (greater)\n",
    "## H0 = u = 20\n",
    "## H1 = u > 20\n"
   ]
  },
  {
   "cell_type": "code",
   "execution_count": 7,
   "id": "c70e6ae1-3d1c-4351-b8fa-2bd830c82a5e",
   "metadata": {},
   "outputs": [
    {
     "data": {
      "text/plain": [
       "TtestResult(statistic=np.float64(10.62418539766139), pvalue=np.float64(8.209195075032286e-12), df=np.int64(29))"
      ]
     },
     "execution_count": 7,
     "metadata": {},
     "output_type": "execute_result"
    }
   ],
   "source": [
    "ttest = stats.ttest_1samp(a = data, popmean = 20, alternative = 'greater')\n",
    "ttest"
   ]
  },
  {
   "cell_type": "code",
   "execution_count": 8,
   "id": "45c50170-62b9-4732-b358-5f8528ecd1f9",
   "metadata": {},
   "outputs": [
    {
     "name": "stdout",
     "output_type": "stream",
     "text": [
      "8.209195075032286e-12\n"
     ]
    }
   ],
   "source": [
    "pvalue = ttest.pvalue\n",
    "print(pvalue)"
   ]
  },
  {
   "cell_type": "code",
   "execution_count": 9,
   "id": "7d593eb8-f460-4fc1-9fc9-4e666ec4e0c2",
   "metadata": {},
   "outputs": [
    {
     "name": "stdout",
     "output_type": "stream",
     "text": [
      "True\n"
     ]
    }
   ],
   "source": [
    "alpha = 0.05\n",
    "print(pvalue < alpha)"
   ]
  },
  {
   "cell_type": "code",
   "execution_count": 10,
   "id": "2476d493-fe9e-4c51-b196-f822e199c0b2",
   "metadata": {},
   "outputs": [
    {
     "name": "stdout",
     "output_type": "stream",
     "text": [
      "conclusion: we succes to reject H0. u > 20\n"
     ]
    }
   ],
   "source": [
    "print(\"conclusion: we succes to reject H0. u > 20\")"
   ]
  },
  {
   "cell_type": "code",
   "execution_count": 11,
   "id": "cb689bca-6b8a-4864-aac9-12758caf99e4",
   "metadata": {},
   "outputs": [],
   "source": [
    "## one sided - Right (less)\n",
    "## H0 = u = 20\n",
    "## H1 = u < 20\n"
   ]
  },
  {
   "cell_type": "code",
   "execution_count": 12,
   "id": "1f8f409c-5562-425a-b3bf-ef049ced7b0f",
   "metadata": {},
   "outputs": [
    {
     "data": {
      "text/plain": [
       "TtestResult(statistic=np.float64(10.62418539766139), pvalue=np.float64(0.9999999999917908), df=np.int64(29))"
      ]
     },
     "execution_count": 12,
     "metadata": {},
     "output_type": "execute_result"
    }
   ],
   "source": [
    "ttest = stats.ttest_1samp(a = data, popmean = 20, alternative = 'less')\n",
    "ttest"
   ]
  },
  {
   "cell_type": "code",
   "execution_count": 13,
   "id": "8afdc9ed-026a-4162-8336-0aa7bc25903c",
   "metadata": {},
   "outputs": [
    {
     "name": "stdout",
     "output_type": "stream",
     "text": [
      "False\n"
     ]
    }
   ],
   "source": [
    "pvalue = ttest.pvalue\n",
    "alpha = 0.05\n",
    "print(pvalue < alpha)"
   ]
  },
  {
   "cell_type": "code",
   "execution_count": 15,
   "id": "c3733327-943f-42ca-97b8-9c883f638f79",
   "metadata": {},
   "outputs": [
    {
     "name": "stdout",
     "output_type": "stream",
     "text": [
      "conclusion: we failed to reject H0. u = 20\n"
     ]
    }
   ],
   "source": [
    "print('conclusion: we failed to reject H0. u = 20')"
   ]
  },
  {
   "cell_type": "code",
   "execution_count": 16,
   "id": "23931671-35c9-43d5-af86-17db27585785",
   "metadata": {},
   "outputs": [],
   "source": [
    "## one sided - Right (less)\n",
    "## H0 = u = 20\n",
    "## H1 = u != 20"
   ]
  },
  {
   "cell_type": "code",
   "execution_count": 17,
   "id": "528d2a9a-8eb1-4cc1-828f-cabdd04e79cd",
   "metadata": {},
   "outputs": [
    {
     "data": {
      "text/plain": [
       "TtestResult(statistic=np.float64(10.62418539766139), pvalue=np.float64(1.641839015006457e-11), df=np.int64(29))"
      ]
     },
     "execution_count": 17,
     "metadata": {},
     "output_type": "execute_result"
    }
   ],
   "source": [
    "ttest = stats.ttest_1samp(a = data, popmean = 20)\n",
    "ttest"
   ]
  },
  {
   "cell_type": "code",
   "execution_count": 18,
   "id": "81624515-27ff-42c7-b4b1-ea86164fe67f",
   "metadata": {},
   "outputs": [
    {
     "name": "stdout",
     "output_type": "stream",
     "text": [
      "True\n"
     ]
    }
   ],
   "source": [
    "pvalue = ttest.pvalue\n",
    "alpha = 0.05\n",
    "print(pvalue < alpha)"
   ]
  },
  {
   "cell_type": "code",
   "execution_count": 20,
   "id": "6344b6a4-9af6-49b1-9bb6-03eade25f38a",
   "metadata": {},
   "outputs": [
    {
     "name": "stdout",
     "output_type": "stream",
     "text": [
      "conclusion: we success to reject H0. u != 20\n"
     ]
    }
   ],
   "source": [
    "print('conclusion: we success to reject H0. u != 20')"
   ]
  },
  {
   "cell_type": "code",
   "execution_count": null,
   "id": "b4f87223-5690-4cfd-b4a3-b701d8e74c8b",
   "metadata": {},
   "outputs": [],
   "source": []
  }
 ],
 "metadata": {
  "kernelspec": {
   "display_name": "Python 3 (ipykernel)",
   "language": "python",
   "name": "python3"
  },
  "language_info": {
   "codemirror_mode": {
    "name": "ipython",
    "version": 3
   },
   "file_extension": ".py",
   "mimetype": "text/x-python",
   "name": "python",
   "nbconvert_exporter": "python",
   "pygments_lexer": "ipython3",
   "version": "3.13.5"
  }
 },
 "nbformat": 4,
 "nbformat_minor": 5
}
