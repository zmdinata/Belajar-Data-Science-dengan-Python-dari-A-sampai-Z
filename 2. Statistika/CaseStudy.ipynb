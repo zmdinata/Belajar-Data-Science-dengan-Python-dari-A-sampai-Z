{
 "cells": [
  {
   "cell_type": "code",
   "execution_count": 6,
   "id": "a0f853b4-b13d-43e0-955d-782419ed4477",
   "metadata": {},
   "outputs": [],
   "source": [
    "import scipy.stats as stats\n",
    "import numpy as np"
   ]
  },
  {
   "cell_type": "code",
   "execution_count": 7,
   "id": "f67b5f2d-6de8-4b02-accd-0d8282e88fcc",
   "metadata": {},
   "outputs": [],
   "source": [
    "data = [100,150,50,100,130,120,100,110,75,65,150,120,50,100,100,140,90,150,50,90]"
   ]
  },
  {
   "cell_type": "code",
   "execution_count": 8,
   "id": "e08f0390-399c-4984-a069-3856d1254a4a",
   "metadata": {},
   "outputs": [
    {
     "data": {
      "text/plain": [
       "[100,\n",
       " 150,\n",
       " 50,\n",
       " 100,\n",
       " 130,\n",
       " 120,\n",
       " 100,\n",
       " 110,\n",
       " 75,\n",
       " 65,\n",
       " 150,\n",
       " 120,\n",
       " 50,\n",
       " 100,\n",
       " 100,\n",
       " 140,\n",
       " 90,\n",
       " 150,\n",
       " 50,\n",
       " 90]"
      ]
     },
     "execution_count": 8,
     "metadata": {},
     "output_type": "execute_result"
    }
   ],
   "source": [
    "data"
   ]
  },
  {
   "cell_type": "code",
   "execution_count": 9,
   "id": "4ceb7019-2974-45a5-9be1-c298902498c7",
   "metadata": {},
   "outputs": [],
   "source": [
    "## T-test (one sided - greater)\n",
    "## H0: u = 100\n",
    "## H1: u > 100"
   ]
  },
  {
   "cell_type": "code",
   "execution_count": 13,
   "id": "4e2dc938-f00d-44c2-b731-dbe883824c6b",
   "metadata": {},
   "outputs": [
    {
     "data": {
      "text/plain": [
       "TtestResult(statistic=np.float64(0.27316577116663854), pvalue=np.float64(0.39383644708475746), df=np.int64(19))"
      ]
     },
     "execution_count": 13,
     "metadata": {},
     "output_type": "execute_result"
    }
   ],
   "source": [
    "ttest = stats.ttest_1samp(a = data, popmean = 100, alternative = 'greater')  \n",
    "ttest"
   ]
  },
  {
   "cell_type": "code",
   "execution_count": 14,
   "id": "dff06569-dc2f-42f8-ac66-387d3ffe7522",
   "metadata": {},
   "outputs": [
    {
     "name": "stdout",
     "output_type": "stream",
     "text": [
      "False\n"
     ]
    }
   ],
   "source": [
    "pvalue = ttest.pvalue\n",
    "alpha = 0.05\n",
    "print(pvalue < alpha)"
   ]
  },
  {
   "cell_type": "code",
   "execution_count": 15,
   "id": "3cb85826-a1ed-49a3-9625-6139e898c813",
   "metadata": {},
   "outputs": [
    {
     "name": "stdout",
     "output_type": "stream",
     "text": [
      "conclusion: we failed to reject H0. u = 20\n"
     ]
    }
   ],
   "source": [
    " print('conclusion: we failed to reject H0. u = 20')"
   ]
  },
  {
   "cell_type": "code",
   "execution_count": null,
   "id": "f0cf8159-4b3f-4a3c-9259-09896490c507",
   "metadata": {},
   "outputs": [],
   "source": []
  }
 ],
 "metadata": {
  "kernelspec": {
   "display_name": "Python 3 (ipykernel)",
   "language": "python",
   "name": "python3"
  },
  "language_info": {
   "codemirror_mode": {
    "name": "ipython",
    "version": 3
   },
   "file_extension": ".py",
   "mimetype": "text/x-python",
   "name": "python",
   "nbconvert_exporter": "python",
   "pygments_lexer": "ipython3",
   "version": "3.13.5"
  }
 },
 "nbformat": 4,
 "nbformat_minor": 5
}
