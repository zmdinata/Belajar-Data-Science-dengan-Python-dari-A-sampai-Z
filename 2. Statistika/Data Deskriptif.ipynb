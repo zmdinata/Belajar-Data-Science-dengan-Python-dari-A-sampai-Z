{
 "cells": [
  {
   "cell_type": "markdown",
   "id": "714aca92-b0d6-4a75-856f-2587996300db",
   "metadata": {},
   "source": []
  },
  {
   "cell_type": "markdown",
   "id": "60e730ff-f733-456a-9c0a-694b72d864e7",
   "metadata": {},
   "source": [
    "Measure of Central Tendency and Variability"
   ]
  },
  {
   "cell_type": "code",
   "execution_count": 1,
   "id": "2aa6bc20-a2bb-4b24-bf06-57e3e82e0c80",
   "metadata": {},
   "outputs": [],
   "source": [
    "import statistics\n",
    "import numpy as np"
   ]
  },
  {
   "cell_type": "code",
   "execution_count": 5,
   "id": "331a3831-9d63-4d53-932a-22eab3d165f7",
   "metadata": {},
   "outputs": [
    {
     "data": {
      "text/plain": [
       "array([ 1, 35, 55, 69, 51, 50, 56, 47, 80,  6, 46, 63, 61, 58, 53, 66, 69,\n",
       "       46, 60, 40, 10, 64, 20, 27, 92, 66, 79, 18, 49, 39, 37, 33, 42, 72,\n",
       "       44,  1, 24, 70, 33, 38,  2, 17, 74, 66, 56, 45, 52, 40,  7, 23, 75,\n",
       "        6, 34, 80, 29, 76, 26, 39, 22, 82, 19,  2, 68, 61, 46, 67, 90, 14,\n",
       "       58, 60, 51, 79, 45, 67, 22, 31, 96, 62, 15, 37, 89, 99, 96, 69, 48,\n",
       "       68, 74, 69, 56, 22, 90, 79, 88, 78, 95, 11, 98, 64, 75, 12],\n",
       "      dtype=int32)"
      ]
     },
     "execution_count": 5,
     "metadata": {},
     "output_type": "execute_result"
    }
   ],
   "source": [
    "## Data\n",
    "\n",
    "data_num = np.random.randint(0,100,100)\n",
    "data_num"
   ]
  },
  {
   "cell_type": "code",
   "execution_count": 13,
   "id": "21722b7c-e553-4056-8614-cf45d3ece328",
   "metadata": {},
   "outputs": [
    {
     "data": {
      "text/plain": [
       "['s', 'm', 'l', 'xl', 'l', 's']"
      ]
     },
     "execution_count": 13,
     "metadata": {},
     "output_type": "execute_result"
    }
   ],
   "source": [
    " data_cat = [\"s\", 'm', 'l', 'xl', 'l', 's']\n",
    "data_cat"
   ]
  },
  {
   "cell_type": "code",
   "execution_count": 14,
   "id": "06ce30dc-85f8-4e80-99bf-6248dd62bdd9",
   "metadata": {},
   "outputs": [
    {
     "data": {
      "text/plain": [
       "np.int32(50)"
      ]
     },
     "execution_count": 14,
     "metadata": {},
     "output_type": "execute_result"
    }
   ],
   "source": [
    "## Central Tendency\n",
    "\n",
    "statistics.mean(data_num)"
   ]
  },
  {
   "cell_type": "code",
   "execution_count": 15,
   "id": "9d4ba5d9-0ca4-42d5-8085-fc94b4fdd36b",
   "metadata": {},
   "outputs": [
    {
     "data": {
      "text/plain": [
       "np.float64(52.5)"
      ]
     },
     "execution_count": 15,
     "metadata": {},
     "output_type": "execute_result"
    }
   ],
   "source": [
    "statistics.median(data_num)"
   ]
  },
  {
   "cell_type": "code",
   "execution_count": 16,
   "id": "a91dbea4-d010-45d4-804f-c4e1be4b71c0",
   "metadata": {},
   "outputs": [
    {
     "data": {
      "text/plain": [
       "np.int32(69)"
      ]
     },
     "execution_count": 16,
     "metadata": {},
     "output_type": "execute_result"
    }
   ],
   "source": [
    "statistics.mode(data_num)"
   ]
  },
  {
   "cell_type": "code",
   "execution_count": 17,
   "id": "35828cdf-e095-4c2e-b722-1d0444833f92",
   "metadata": {},
   "outputs": [
    {
     "data": {
      "text/plain": [
       "'s'"
      ]
     },
     "execution_count": 17,
     "metadata": {},
     "output_type": "execute_result"
    }
   ],
   "source": [
    "statistics.mode(data_cat) ##kekurangan func mode/modus"
   ]
  },
  {
   "cell_type": "code",
   "execution_count": 19,
   "id": "cee20cf3-8021-46df-aa8e-1776afa571bf",
   "metadata": {},
   "outputs": [
    {
     "data": {
      "text/plain": [
       "['s', 'l']"
      ]
     },
     "execution_count": 19,
     "metadata": {},
     "output_type": "execute_result"
    }
   ],
   "source": [
    "statistics.multimode(data_cat) ##munculin 2 modus/mode"
   ]
  },
  {
   "cell_type": "code",
   "execution_count": 20,
   "id": "5f7179be-5c59-4914-98b8-b8e349d00b2a",
   "metadata": {},
   "outputs": [
    {
     "data": {
      "text/plain": [
       "np.float64(678.1219)"
      ]
     },
     "execution_count": 20,
     "metadata": {},
     "output_type": "execute_result"
    }
   ],
   "source": [
    "## variability\n",
    "\n",
    "np.var(data_num) ## varience"
   ]
  },
  {
   "cell_type": "code",
   "execution_count": 21,
   "id": "2d0d991f-6429-4489-bc9a-8207bbe661d0",
   "metadata": {},
   "outputs": [
    {
     "data": {
      "text/plain": [
       "np.float64(26.040773798026816)"
      ]
     },
     "execution_count": 21,
     "metadata": {},
     "output_type": "execute_result"
    }
   ],
   "source": [
    "np.std(data_num) ## standar devisiasi"
   ]
  },
  {
   "cell_type": "code",
   "execution_count": 24,
   "id": "8a3c0c9b-df56-42f3-8d9f-756b3959b7aa",
   "metadata": {},
   "outputs": [
    {
     "data": {
      "text/plain": [
       "np.int32(98)"
      ]
     },
     "execution_count": 24,
     "metadata": {},
     "output_type": "execute_result"
    }
   ],
   "source": [
    "np.max(data_num) - np.min(data_num) ##Range"
   ]
  },
  {
   "cell_type": "code",
   "execution_count": 25,
   "id": "158cdc41-fbc4-49d5-b946-07ebc23b4958",
   "metadata": {},
   "outputs": [
    {
     "data": {
      "text/plain": [
       "np.float64(32.5)"
      ]
     },
     "execution_count": 25,
     "metadata": {},
     "output_type": "execute_result"
    }
   ],
   "source": [
    "np.quantile(data_num, 0.25) ## q1"
   ]
  },
  {
   "cell_type": "code",
   "execution_count": 27,
   "id": "492cf779-482d-42a9-9c70-cdd772e0616b",
   "metadata": {},
   "outputs": [
    {
     "data": {
      "text/plain": [
       "np.float64(52.5)"
      ]
     },
     "execution_count": 27,
     "metadata": {},
     "output_type": "execute_result"
    }
   ],
   "source": [
    "np.quantile(data_num, 0.5) ##q2"
   ]
  },
  {
   "cell_type": "code",
   "execution_count": 28,
   "id": "0bee305c-bfb6-48d7-a720-7270671abfc3",
   "metadata": {},
   "outputs": [
    {
     "data": {
      "text/plain": [
       "np.float64(69.0)"
      ]
     },
     "execution_count": 28,
     "metadata": {},
     "output_type": "execute_result"
    }
   ],
   "source": [
    "np.quantile(data_num, 0.75) ##q3"
   ]
  },
  {
   "cell_type": "code",
   "execution_count": null,
   "id": "6ee9bc22-3cca-44d4-9b14-f70815487a3b",
   "metadata": {},
   "outputs": [],
   "source": []
  }
 ],
 "metadata": {
  "kernelspec": {
   "display_name": "Python 3 (ipykernel)",
   "language": "python",
   "name": "python3"
  },
  "language_info": {
   "codemirror_mode": {
    "name": "ipython",
    "version": 3
   },
   "file_extension": ".py",
   "mimetype": "text/x-python",
   "name": "python",
   "nbconvert_exporter": "python",
   "pygments_lexer": "ipython3",
   "version": "3.13.5"
  }
 },
 "nbformat": 4,
 "nbformat_minor": 5
}
